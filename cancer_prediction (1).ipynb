{
 "cells": [
  {
   "cell_type": "code",
   "execution_count": 1,
   "id": "c028dbad",
   "metadata": {},
   "outputs": [],
   "source": [
    "  ### Cancer Prediction"
   ]
  },
  {
   "cell_type": "code",
   "execution_count": null,
   "id": "98ead3dd",
   "metadata": {},
   "outputs": [],
   "source": []
  },
  {
   "cell_type": "code",
   "execution_count": null,
   "id": "752e80ed",
   "metadata": {},
   "outputs": [],
   "source": []
  },
  {
   "cell_type": "code",
   "execution_count": 2,
   "id": "b0219abb",
   "metadata": {},
   "outputs": [
    {
     "ename": "SyntaxError",
     "evalue": "invalid syntax (3490827410.py, line 2)",
     "output_type": "error",
     "traceback": [
      "\u001b[1;36m  Cell \u001b[1;32mIn[2], line 2\u001b[1;36m\u001b[0m\n\u001b[1;33m    The proposed machine-learning approaches could predict  cancer as the early detection of this\u001b[0m\n\u001b[1;37m        ^\u001b[0m\n\u001b[1;31mSyntaxError\u001b[0m\u001b[1;31m:\u001b[0m invalid syntax\n"
     ]
    }
   ],
   "source": [
    "###Objective \n",
    "The proposed machine-learning approaches could predict  cancer as the early detection of this \n",
    "disease could help slow down the progress of the disease \n",
    "and reduce the mortality rate through appropriate therapeutic interventions at the right time."
   ]
  },
  {
   "cell_type": "code",
   "execution_count": null,
   "id": "f16a4695",
   "metadata": {},
   "outputs": [],
   "source": [
    "#Data Source\n",
    "\n",
    "Target Variable (y):\n",
    "\n",
    "Diagnosis (M = malignant, B = benign)\n",
    "Ten features (X) are computed for each cell nucleus:\n",
    "\n",
    "radius (mean of distances from center to points on the perimeter)\n",
    "texture (standard deviation of gray-scale values)\n",
    "perimeter\n",
    "area\n",
    "smoothness (local variation in radius lengths)\n",
    "compactness (perimeter^2 / area - 1.0)\n",
    "concavity (severity of concave portions of the contour)\n",
    "concave points (number of concave portions of the contour)\n",
    "symmetry\n",
    "fractal dimension (coastline approximation - )"
   ]
  },
  {
   "cell_type": "code",
   "execution_count": null,
   "id": "ddfae3fb",
   "metadata": {},
   "outputs": [],
   "source": [
    "#Import Libraray\n",
    "import pandas as pd"
   ]
  },
  {
   "cell_type": "code",
   "execution_count": null,
   "id": "09234f96",
   "metadata": {},
   "outputs": [],
   "source": [
    " # Import Data\n",
    "cancer = pd.read_csv('https://github.com/YBIFoundation/Dataset/raw/main/Cancer.csv')"
   ]
  },
  {
   "cell_type": "code",
   "execution_count": null,
   "id": "37b8777a",
   "metadata": {},
   "outputs": [],
   "source": [
    "#Describe Data\n",
    "cancer.head()"
   ]
  },
  {
   "cell_type": "code",
   "execution_count": null,
   "id": "00e2d591",
   "metadata": {},
   "outputs": [],
   "source": [
    "#Data Visulazation\n",
    "cancer.info()"
   ]
  },
  {
   "cell_type": "code",
   "execution_count": null,
   "id": "968ee6b0",
   "metadata": {},
   "outputs": [],
   "source": [
    "cancer.describe()"
   ]
  },
  {
   "cell_type": "code",
   "execution_count": null,
   "id": "98024e57",
   "metadata": {},
   "outputs": [],
   "source": [
    "cancer.columns\n",
    "#"
   ]
  },
  {
   "cell_type": "code",
   "execution_count": null,
   "id": "96ff509b",
   "metadata": {},
   "outputs": [],
   "source": [
    "#target Varible Y\n",
    "y = cancer['diagnosis']"
   ]
  },
  {
   "cell_type": "code",
   "execution_count": null,
   "id": "8295c55a",
   "metadata": {},
   "outputs": [],
   "source": [
    "#Target Varible X\n",
    "X = cancer.drop(['id','diagnosis','Unnamed: 32'],axis=1)"
   ]
  },
  {
   "cell_type": "code",
   "execution_count": null,
   "id": "d27b94b2",
   "metadata": {},
   "outputs": [],
   "source": [
    "#Train Test Split\n",
    "from sklearn.model_selection import train_test_split\n",
    "X_train, X_test, y_train, y_test = train_test_split(X,y, train_size=0.7, random_state=2529)"
   ]
  },
  {
   "cell_type": "code",
   "execution_count": null,
   "id": "93dfaa41",
   "metadata": {},
   "outputs": [],
   "source": [
    "# check shape of train and test sample\n",
    "X_train.shape, X_test.shape, y_train.shape, y_test.shape"
   ]
  },
  {
   "cell_type": "code",
   "execution_count": null,
   "id": "3afd7770",
   "metadata": {},
   "outputs": [],
   "source": [
    "#   modeling\n",
    "from sklearn.linear_model import LogisticRegression\n",
    "model = LogisticRegression(max_iter=5000)"
   ]
  },
  {
   "cell_type": "code",
   "execution_count": null,
   "id": "d40ef096",
   "metadata": {},
   "outputs": [],
   "source": [
    " #Step 6 : train or fit model\n",
    "model.fit(X_train,y_train)"
   ]
  },
  {
   "cell_type": "code",
   "execution_count": null,
   "id": "fe4de16a",
   "metadata": {},
   "outputs": [],
   "source": [
    "model.intercept_"
   ]
  },
  {
   "cell_type": "code",
   "execution_count": null,
   "id": "6ee34919",
   "metadata": {},
   "outputs": [],
   "source": [
    "model.coef_"
   ]
  },
  {
   "cell_type": "code",
   "execution_count": null,
   "id": "ced411e9",
   "metadata": {},
   "outputs": [],
   "source": [
    "#  prediction\n",
    "y_pred = model.predict(X_test)\n",
    "     "
   ]
  },
  {
   "cell_type": "code",
   "execution_count": null,
   "id": "895d5170",
   "metadata": {},
   "outputs": [],
   "source": [
    "\n",
    "y_pred\n"
   ]
  },
  {
   "cell_type": "code",
   "execution_count": null,
   "id": "fe44bce2",
   "metadata": {},
   "outputs": [],
   "source": [
    "# Step 8 : model accuracy\n",
    "from sklearn.metrics import confusion_matrix, accuracy_score, classification_report\n",
    "     "
   ]
  },
  {
   "cell_type": "code",
   "execution_count": null,
   "id": "ada968df",
   "metadata": {},
   "outputs": [],
   "source": [
    "confusion_matrix(y_test,y_pred)"
   ]
  },
  {
   "cell_type": "code",
   "execution_count": null,
   "id": "4a51874f",
   "metadata": {},
   "outputs": [],
   "source": [
    "accuracy_score(y_test,y_pred)"
   ]
  },
  {
   "cell_type": "code",
   "execution_count": null,
   "id": "2fca87f9",
   "metadata": {},
   "outputs": [],
   "source": [
    "print(classification_report(y_test,y_pred))\n",
    "     "
   ]
  },
  {
   "cell_type": "code",
   "execution_count": null,
   "id": "af11c57f",
   "metadata": {},
   "outputs": [],
   "source": [
    "#Explaintion\n",
    "This Project Proposed by Bhairavi m Anantpur,\n",
    "The whole study explains and compares the findings of various machine learning and in-depth learning implemented to cancer prognosis. \n",
    "Specifically, several trends related to those same kinds of machines techniques to be used, \n",
    "the kinds of training data to be incorporated, the kind of endpoint forecasts to be made, \n",
    "sorts of cancers being investigated, \n",
    "and the overall performance of cancer prediction or outcome methods have been identified.\n",
    "This Project Provides Accuracy Rate of 0.9590643274853801.\n",
    "\n"
   ]
  }
 ],
 "metadata": {
  "kernelspec": {
   "display_name": "Python 3 (ipykernel)",
   "language": "python",
   "name": "python3"
  },
  "language_info": {
   "codemirror_mode": {
    "name": "ipython",
    "version": 3
   },
   "file_extension": ".py",
   "mimetype": "text/x-python",
   "name": "python",
   "nbconvert_exporter": "python",
   "pygments_lexer": "ipython3",
   "version": "3.11.4"
  }
 },
 "nbformat": 4,
 "nbformat_minor": 5
}
